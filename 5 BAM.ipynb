{
 "cells": [
  {
   "cell_type": "code",
   "execution_count": 14,
   "id": "2c6eaf4e",
   "metadata": {},
   "outputs": [
    {
     "name": "stdout",
     "output_type": "stream",
     "text": [
      "[[1. 0. 0.]\n",
      " [1. 0. 0.]\n",
      " [1. 1. 0.]\n",
      " [0. 1. 0.]\n",
      " [0. 1. 0.]]\n",
      "Input vector [1 1 1 0 0]\n",
      "Output vector [3. 1. 0.]\n"
     ]
    }
   ],
   "source": [
    "import numpy as np\n",
    "\n",
    "# Define two pairs of vectors\n",
    "\n",
    "X1 = np.array([1, 1, 1, 0, 0])\n",
    "X2 = np.array([0, 0, 1, 1, 1])\n",
    "Y1 = np.array([1, 0, 0])\n",
    "Y2 = np.array([0, 1, 0])\n",
    "\n",
    "# Define the weight matrix\n",
    "\n",
    "W = np.zeros((len(X1), len(Y1)))\n",
    "for i in range(len(X1)):\n",
    "    for j in range(len(Y1)):\n",
    "        W[i][j] = X1[i] * Y1[j] + X2[i] * Y2[j]\n",
    "print(W)\n",
    "\n",
    "\n",
    "# Define the BAM function\n",
    "\n",
    "def BAM(input_vector):\n",
    "    output_vector = np.zeros(len(Y1))\n",
    "    for j in range(len(Y1)):\n",
    "        sum = 0\n",
    "        for i in range(len(X1)):\n",
    "            sum += input_vector[i] * W[i][j]\n",
    "        output_vector[j] = sum\n",
    "    return output_vector\n",
    "\n",
    "# Test the BAM function with the input vector X1\n",
    "\n",
    "input_vector = X1\n",
    "output_vector = BAM(input_vector)\n",
    "print(\"Input vector\", input_vector)\n",
    "print(\"Output vector\", output_vector)"
   ]
  },
  {
   "cell_type": "code",
   "execution_count": null,
   "id": "00689f11",
   "metadata": {},
   "outputs": [],
   "source": []
  }
 ],
 "metadata": {
  "kernelspec": {
   "display_name": "Python 3 (ipykernel)",
   "language": "python",
   "name": "python3"
  },
  "language_info": {
   "codemirror_mode": {
    "name": "ipython",
    "version": 3
   },
   "file_extension": ".py",
   "mimetype": "text/x-python",
   "name": "python",
   "nbconvert_exporter": "python",
   "pygments_lexer": "ipython3",
   "version": "3.10.8"
  }
 },
 "nbformat": 4,
 "nbformat_minor": 5
}
