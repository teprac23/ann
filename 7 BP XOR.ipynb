{
 "cells": [
  {
   "cell_type": "code",
   "execution_count": 1,
   "metadata": {},
   "outputs": [
    {
     "name": "stdout",
     "output_type": "stream",
     "text": [
      "[[0.04336542]\n",
      " [0.86002603]\n",
      " [0.860033  ]\n",
      " [0.5513947 ]]\n"
     ]
    }
   ],
   "source": [
    "import numpy as np\n",
    "\n",
    "# Define sigmoid activation function\n",
    "def sigmoid(x):\n",
    "    return 1 / (1 + np.exp(-x))\n",
    "\n",
    "# Define derivative of sigmoid activation function\n",
    "def sigmoid_derivative(x):\n",
    "    return x * (1 - x)\n",
    "\n",
    "# Define XOR dataset with binary input and output\n",
    "X = np.array([[0, 0], [0, 1], [1, 0], [1, 1]])\n",
    "y = np.array([[0], [1], [1], [0]])\n",
    "\n",
    "# Define hyperparameters\n",
    "input_layer_size = 2\n",
    "hidden_layer_size = 2\n",
    "output_layer_size = 1\n",
    "learning_rate = 0.1\n",
    "num_iterations = 100000\n",
    "\n",
    "# Initialize weights with random values between -1 and 1\n",
    "np.random.seed(1)\n",
    "hidden_weights = 2 * np.random.random((input_layer_size, hidden_layer_size)) - 1\n",
    "output_weights = 2 * np.random.random((hidden_layer_size, output_layer_size)) - 1\n",
    "\n",
    "# Train the neural network using backpropagation\n",
    "for i in range(num_iterations):\n",
    "    # Forward propagation\n",
    "    hidden_layer_output = sigmoid(np.dot(X, hidden_weights))\n",
    "    output_layer_output = sigmoid(np.dot(hidden_layer_output, output_weights))\n",
    "\n",
    "    # Backpropagation\n",
    "    output_error = y - output_layer_output\n",
    "    output_delta = output_error * sigmoid_derivative(output_layer_output)\n",
    "    hidden_error = output_delta.dot(output_weights.T)\n",
    "    hidden_delta = hidden_error * sigmoid_derivative(hidden_layer_output)\n",
    "\n",
    "    # Update weights\n",
    "    output_weights += learning_rate * hidden_layer_output.T.dot(output_delta)\n",
    "    hidden_weights += learning_rate * X.T.dot(hidden_delta)\n",
    "\n",
    "# Test the neural network\n",
    "test_input = np.array([[0, 0], [0, 1], [1, 0], [1, 1]])\n",
    "predicted_output = sigmoid(np.dot(sigmoid(np.dot(test_input, hidden_weights)), output_weights))\n",
    "print(predicted_output)\n"
   ]
  }
 ],
 "metadata": {
  "kernelspec": {
   "display_name": "Python 3",
   "language": "python",
   "name": "python3"
  },
  "language_info": {
   "codemirror_mode": {
    "name": "ipython",
    "version": 3
   },
   "file_extension": ".py",
   "mimetype": "text/x-python",
   "name": "python",
   "nbconvert_exporter": "python",
   "pygments_lexer": "ipython3",
   "version": "3.11.2"
  },
  "orig_nbformat": 4
 },
 "nbformat": 4,
 "nbformat_minor": 2
}
