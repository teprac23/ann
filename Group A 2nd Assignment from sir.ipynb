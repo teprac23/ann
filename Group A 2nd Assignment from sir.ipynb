{
 "cells": [
  {
   "cell_type": "code",
   "execution_count": 2,
   "id": "d3b7a2f7",
   "metadata": {},
   "outputs": [
    {
     "name": "stdout",
     "output_type": "stream",
     "text": [
      "Inputs: [0 0]\n",
      "ANDNOT output: False\n",
      "Inputs: [0 1]\n",
      "ANDNOT output: False\n",
      "Inputs: [1 0]\n",
      "ANDNOT output: True\n",
      "Inputs: [1 1]\n",
      "ANDNOT output: False\n"
     ]
    }
   ],
   "source": [
    "import numpy as np\n",
    "\n",
    "# Define the McCulloch-Pitts neural network\n",
    "class McCullochPitts:\n",
    "    def __init__(self, input_size):\n",
    "        self.weights = np.zeros(input_size)\n",
    "        self.bias = 0\n",
    "    \n",
    "    def predict(self, inputs):\n",
    "        linear_combination = np.dot(self.weights, inputs) + self.bias\n",
    "        return 1 if linear_combination >= 0 else 0\n",
    "\n",
    "# Define the inputs and expected outputs for the ANDNOT function\n",
    "inputs = np.array([[0, 0], [0, 1], [1, 0], [1, 1]])\n",
    "expected_outputs = np.array([0, 0, 1, 0])\n",
    "\n",
    "# Create a McCulloch-Pitts neural network with 2 inputs\n",
    "neural_network = McCullochPitts(2)\n",
    "\n",
    "# Train the neural network using the perceptron learning rule\n",
    "learning_rate = 0.1\n",
    "epochs = 10\n",
    "for epoch in range(epochs):\n",
    "    for input, expected_output in zip(inputs, expected_outputs):\n",
    "        prediction = neural_network.predict(input)\n",
    "        error = expected_output - prediction\n",
    "        neural_network.weights += learning_rate * error * input\n",
    "        neural_network.bias += learning_rate * error\n",
    "\n",
    "# Test the neural network on the inputs\n",
    "for input in inputs:\n",
    "    print(f\"Inputs: {input}\")\n",
    "    if neural_network.predict(input) == 1:\n",
    "        print(\"ANDNOT output: True\")\n",
    "    else:\n",
    "        print(\"ANDNOT output: False\")"
   ]
  },
  {
   "cell_type": "code",
   "execution_count": null,
   "id": "ada68a6d",
   "metadata": {},
   "outputs": [],
   "source": []
  }
 ],
 "metadata": {
  "kernelspec": {
   "display_name": "Python 3 (ipykernel)",
   "language": "python",
   "name": "python3"
  },
  "language_info": {
   "codemirror_mode": {
    "name": "ipython",
    "version": 3
   },
   "file_extension": ".py",
   "mimetype": "text/x-python",
   "name": "python",
   "nbconvert_exporter": "python",
   "pygments_lexer": "ipython3",
   "version": "3.10.8"
  }
 },
 "nbformat": 4,
 "nbformat_minor": 5
}
