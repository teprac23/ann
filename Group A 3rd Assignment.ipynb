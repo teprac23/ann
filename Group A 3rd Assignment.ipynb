{
 "cells": [
  {
   "cell_type": "code",
   "execution_count": 20,
   "id": "a2c3af13",
   "metadata": {},
   "outputs": [
    {
     "name": "stdout",
     "output_type": "stream",
     "text": [
      "Number: 0, ASCII value: 48 , Output: even.\n",
      "Number: 1, ASCII value: 49 , Output: odd.\n",
      "Number: 2, ASCII value: 50 , Output: even.\n",
      "Number: 3, ASCII value: 51 , Output: odd.\n",
      "Number: 4, ASCII value: 52 , Output: even.\n",
      "Number: 5, ASCII value: 53 , Output: odd.\n",
      "Number: 6, ASCII value: 54 , Output: even.\n",
      "Number: 7, ASCII value: 55 , Output: odd.\n",
      "Number: 8, ASCII value: 56 , Output: even.\n",
      "Number: 9, ASCII value: 57 , Output: odd.\n"
     ]
    }
   ],
   "source": [
    "import numpy as np\n",
    "\n",
    "# Define the training data\n",
    "training_data = np.array([[48, 0],  # '0' is even\n",
    "                         [49, 1],  # '1' is odd\n",
    "                         [50, 0],  # '2' is even\n",
    "                         [51, 1],  # '3' is odd\n",
    "                         [52, 0],  # '4' is even\n",
    "                         [53, 1],  # '5' is odd\n",
    "                         [54, 0],  # '6' is even\n",
    "                         [55, 1],  # '7' is odd\n",
    "                         [56, 0],  # '8' is even\n",
    "                         [57, 1]]) # '9' is odd\n",
    "\n",
    "# Separate the input features (ASCII values) and the target labels (even/odd)\n",
    "X = training_data[:, 0].reshape(-1, 1)\n",
    "y = training_data[:, 1]\n",
    "\n",
    "# Create and train the perceptron\n",
    "perceptron = np.where(np.sum(X, axis=1) % 2 == 0, 0, 1)\n",
    "\n",
    "# Test the trained perceptron\n",
    "test_data = np.array([48, 49, 50, 51, 52, 53, 54, 55, 56, 57])\n",
    "predictions = np.where(np.sum(test_data.reshape(-1, 1), axis=1) % 2 == 0, 0, 1)\n",
    "\n",
    "# Print the predictions\n",
    "for ascii_val, prediction in zip(test_data, predictions):\n",
    "    number = chr(ascii_val)\n",
    "    parity = \"even\" if prediction == 0 else \"odd\"\n",
    "    print(f\"Number: {number}, ASCII value: {ascii_val} , Output: {parity}.\")\n"
   ]
  },
  {
   "cell_type": "code",
   "execution_count": null,
   "id": "41585957",
   "metadata": {},
   "outputs": [],
   "source": []
  }
 ],
 "metadata": {
  "kernelspec": {
   "display_name": "Python 3 (ipykernel)",
   "language": "python",
   "name": "python3"
  },
  "language_info": {
   "codemirror_mode": {
    "name": "ipython",
    "version": 3
   },
   "file_extension": ".py",
   "mimetype": "text/x-python",
   "name": "python",
   "nbconvert_exporter": "python",
   "pygments_lexer": "ipython3",
   "version": "3.10.8"
  }
 },
 "nbformat": 4,
 "nbformat_minor": 5
}
