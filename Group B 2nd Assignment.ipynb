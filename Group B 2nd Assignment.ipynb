{
 "cells": [
  {
   "cell_type": "code",
   "execution_count": 11,
   "id": "218c4a2a",
   "metadata": {},
   "outputs": [
    {
     "name": "stdout",
     "output_type": "stream",
     "text": [
      "[[0.8637 0.8853]]\n"
     ]
    }
   ],
   "source": [
    "import numpy as np\n",
    "\n",
    "class ART:\n",
    "    def __init__(self, input_size, rho, alpha):\n",
    "        self.W = np.ones((1, input_size))\n",
    "        self.rho = rho\n",
    "        self.alpha = alpha\n",
    "\n",
    "    def reset(self):\n",
    "        self.W = np.ones((1, input_size))\n",
    "\n",
    "    def train(self, x):\n",
    "        while True:\n",
    "            y = self.predict(x)\n",
    "            if y is not None:\n",
    "                self.update(x)\n",
    "                return\n",
    "            else:\n",
    "                self.reset()\n",
    "\n",
    "    def predict(self, x):\n",
    "        y = x.dot(self.W.T)\n",
    "        if y >= self.rho:\n",
    "            return y\n",
    "        else:\n",
    "            return None\n",
    "\n",
    "    def update(self, x):\n",
    "        self.W = self.alpha * x + (1 - self.alpha) * self.W\n",
    "\n",
    "if __name__ == '__main__':\n",
    "    input_size = 2\n",
    "    rho = 0.9\n",
    "    alpha = 0.1\n",
    "    network = ART(input_size, rho, alpha)\n",
    "    x1 = np.array([0.7, 0.3])\n",
    "    x2 = np.array([0.2, 0.8])\n",
    "    x3 = np.array([0.6, 0.6])\n",
    "    network.train(x1)\n",
    "    network.train(x2)\n",
    "    network.train(x3)\n",
    "    print(network.W)"
   ]
  },
  {
   "cell_type": "code",
   "execution_count": null,
   "id": "cee9d67b",
   "metadata": {},
   "outputs": [],
   "source": []
  }
 ],
 "metadata": {
  "kernelspec": {
   "display_name": "Python 3 (ipykernel)",
   "language": "python",
   "name": "python3"
  },
  "language_info": {
   "codemirror_mode": {
    "name": "ipython",
    "version": 3
   },
   "file_extension": ".py",
   "mimetype": "text/x-python",
   "name": "python",
   "nbconvert_exporter": "python",
   "pygments_lexer": "ipython3",
   "version": "3.9.12"
  }
 },
 "nbformat": 4,
 "nbformat_minor": 5
}
