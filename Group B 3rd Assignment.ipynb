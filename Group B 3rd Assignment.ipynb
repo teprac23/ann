{
 "cells": [
  {
   "cell_type": "code",
   "execution_count": 4,
   "metadata": {},
   "outputs": [],
   "source": [
    "import numpy as np\n",
    "\n",
    "class NeuralNetwork:\n",
    "    def __init__(self, input_layer_size, hidden_layer_size, output_layer_size):\n",
    "        self.input_layer_size = input_layer_size\n",
    "        self.hidden_layer_size = hidden_layer_size\n",
    "        self.output_layer_size = output_layer_size\n",
    "\n",
    "        # Initialize weights with random values between -1 and 1\n",
    "        self.W1 = np.random.uniform(low=-1, high=1, size=(self.input_layer_size, self.hidden_layer_size))\n",
    "        self.W2 = np.random.uniform(low=-1, high=1, size=(self.hidden_layer_size, self.output_layer_size))\n",
    "\n",
    "    def sigmoid(self, z):\n",
    "        return 1 / (1 + np.exp(-z))\n",
    "\n",
    "    def sigmoid_derivative(self, z):\n",
    "        return z * (1 - z)\n",
    "\n",
    "    def train(self, X, y, num_iterations, learning_rate):\n",
    "        for i in range(num_iterations):\n",
    "            # Forward propagation\n",
    "            z1 = np.dot(X, self.W1)\n",
    "            a1 = self.sigmoid(z1)\n",
    "            z2 = np.dot(a1, self.W2)\n",
    "            y_hat = self.sigmoid(z2)\n",
    "\n",
    "            # Backward propagation\n",
    "            delta3 = (y_hat - y) * self.sigmoid_derivative(y_hat)\n",
    "            dW2 = np.dot(a1.T, delta3)\n",
    "            delta2 = np.dot(delta3, self.W2.T) * self.sigmoid_derivative(a1)\n",
    "            dW1 = np.dot(X.T, delta2)\n",
    "\n",
    "            # Update weights\n",
    "            self.W1 -= learning_rate * dW1\n",
    "            self.W2 -= learning_rate * dW2\n",
    "\n",
    "    def predict(self, X):\n",
    "        z1 = np.dot(X, self.W1)\n",
    "        a1 = self.sigmoid(z1)\n",
    "        z2 = np.dot(a1, self.W2)\n",
    "        y_hat = self.sigmoid(z2)\n",
    "        return y_hat\n"
   ]
  },
  {
   "cell_type": "code",
   "execution_count": 5,
   "metadata": {},
   "outputs": [
    {
     "name": "stdout",
     "output_type": "stream",
     "text": [
      "Input: [0 0], Output: [0.0232316]\n",
      "Input: [0 1], Output: [0.96318668]\n",
      "Input: [1 0], Output: [0.96935459]\n",
      "Input: [1 1], Output: [0.02945525]\n"
     ]
    }
   ],
   "source": [
    "# Define XOR dataset with binary input and output\n",
    "X = np.array([[0, 0], [0, 1], [1, 0], [1, 1]])\n",
    "y = np.array([[0], [1], [1], [0]])\n",
    "\n",
    "# Set learning rate and number of iterations\n",
    "learning_rate = 0.1\n",
    "num_iterations = 100000\n",
    "\n",
    "# Train the neural network using backpropagation\n",
    "nn = NeuralNetwork(2, 3, 1)\n",
    "nn.train(X, y, num_iterations, learning_rate)\n",
    "\n",
    "# Make predictions on new data and print output\n",
    "new_data = np.array([[0, 0], [0, 1], [1, 0], [1, 1]])\n",
    "for i in range(len(new_data)):\n",
    "    output = nn.predict(new_data[i])\n",
    "    print(f\"Input: {new_data[i]}, Output: {output}\")\n"
   ]
  },
  {
   "cell_type": "code",
   "execution_count": null,
   "metadata": {},
   "outputs": [],
   "source": []
  }
 ],
 "metadata": {
  "kernelspec": {
   "display_name": "Python 3 (ipykernel)",
   "language": "python",
   "name": "python3"
  },
  "language_info": {
   "codemirror_mode": {
    "name": "ipython",
    "version": 3
   },
   "file_extension": ".py",
   "mimetype": "text/x-python",
   "name": "python",
   "nbconvert_exporter": "python",
   "pygments_lexer": "ipython3",
   "version": "3.10.8"
  }
 },
 "nbformat": 4,
 "nbformat_minor": 2
}
