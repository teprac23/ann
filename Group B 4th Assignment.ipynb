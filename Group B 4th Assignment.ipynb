{
 "cells": [
  {
   "cell_type": "code",
   "execution_count": 4,
   "id": "de1f078a",
   "metadata": {},
   "outputs": [
    {
     "name": "stdout",
     "output_type": "stream",
     "text": [
      "Input vector: [-1 -1  1 -1]\n",
      "Output vector: [-1 -1  1 -1]\n"
     ]
    },
    {
     "data": {
      "text/plain": [
       "array([[ 0,  0,  0, -4],\n",
       "       [ 0,  0, -4,  0],\n",
       "       [ 0, -4,  0,  0],\n",
       "       [-4,  0,  0,  0]])"
      ]
     },
     "execution_count": 4,
     "metadata": {},
     "output_type": "execute_result"
    }
   ],
   "source": [
    "import numpy as np\n",
    "\n",
    "# Define the 4 vectors to be stored\n",
    "v1 = np.array([1, -1, 1, -1])\n",
    "v2 = np.array([-1, 1, -1, 1])\n",
    "v3 = np.array([1, 1, -1, -1])\n",
    "v4 = np.array([-1, -1, 1, 1])\n",
    "\n",
    "# Combine the vectors into a weight matrix\n",
    "w = np.outer(v1, v1) + np.outer(v2, v2) + np.outer(v3, v3) + np.outer(v4, v4) \n",
    "\n",
    "# Set the diagonal elements of the weight matrix to zero\n",
    "np.fill_diagonal(w, 0)\n",
    "\n",
    "# Define the activation function (sign function)\n",
    "def activation(x):\n",
    "    return np.where(x >= 0, 1, -1)\n",
    "\n",
    "# Define the Hopfield network function\n",
    "def hopfield_network(input_vector, weight_matrix, activation_function, iterations):\n",
    "    # Set the initial state of the network to the input vector\n",
    "    state = input_vector\n",
    "    # Iterate the network for the specified number of iterations\n",
    "    for i in range(iterations):\n",
    "        # Compute the net input to each neuron\n",
    "        net_input = np.dot(weight_matrix, state)\n",
    "        # Apply the activation function to the net input to get the new state\n",
    "        new_state = activation_function(net_input)\n",
    "        # Check if the new state is the same as the current state\n",
    "        if np.array_equal(new_state, state):\n",
    "            # If the new state is the same as the current state, return it\n",
    "            return new_state\n",
    "        # If the new state is different from the current state, update the state\n",
    "        state = new_state\n",
    "    # If the network has not converged after the specified number of iterations, return the current state\n",
    "    return state\n",
    "\n",
    "# Test the Hopfield network with the stored vectors\n",
    "input_vector = np.array([-1, -1, 1, -1])\n",
    "output_vector = hopfield_network(input_vector, w, activation, 10)\n",
    "print(\"Input vector:\", input_vector)\n",
    "print(\"Output vector:\", output_vector)\n",
    "w"
   ]
  },
  {
   "cell_type": "code",
   "execution_count": null,
   "id": "b9c30dad",
   "metadata": {},
   "outputs": [],
   "source": []
  }
 ],
 "metadata": {
  "kernelspec": {
   "display_name": "Python 3 (ipykernel)",
   "language": "python",
   "name": "python3"
  },
  "language_info": {
   "codemirror_mode": {
    "name": "ipython",
    "version": 3
   },
   "file_extension": ".py",
   "mimetype": "text/x-python",
   "name": "python",
   "nbconvert_exporter": "python",
   "pygments_lexer": "ipython3",
   "version": "3.9.12"
  }
 },
 "nbformat": 4,
 "nbformat_minor": 5
}
